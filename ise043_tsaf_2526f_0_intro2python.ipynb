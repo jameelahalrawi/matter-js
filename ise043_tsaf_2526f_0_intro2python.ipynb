{
  "cells": [
    {
      "cell_type": "markdown",
      "metadata": {
        "id": "view-in-github",
        "colab_type": "text"
      },
      "source": [
        "<a href=\"https://colab.research.google.com/github/jameelahalrawi/matter-js/blob/master/ise043_tsaf_2526f_0_intro2python.ipynb\" target=\"_parent\"><img src=\"https://colab.research.google.com/assets/colab-badge.svg\" alt=\"Open In Colab\"/></a>"
      ]
    },
    {
      "cell_type": "markdown",
      "id": "d62784da",
      "metadata": {
        "id": "d62784da"
      },
      "source": [
        "># Two possible ways to run a Jupyter Notebook\n",
        ">- **Google Colab**: https://colab.research.google.com/\n",
        ">- Download **Anaconda**: https://www.anaconda.com/download (open Anaconda Navigator)"
      ]
    },
    {
      "cell_type": "markdown",
      "id": "254855b7",
      "metadata": {
        "id": "254855b7"
      },
      "source": [
        ">#### Shortucts\n",
        "While you can always use the tool-bar above, you'll be much more efficient if you use a couple of shortcuts. The most important ones are:\n",
        "\n",
        ">* `Ctrl+Enter` runs the current cell.\n",
        ">* `Shift+Enter` runs the current cell and jumps to the next cell.\n",
        ">* `Alt+Enter` runs the cell and adds a new one below it.\n",
        "\n",
        ">* `a` adds a cell before the current cell.\n",
        ">* `b` adds a cell after the current cell.\n",
        ">* `dd` deletes a cell.\n",
        ">* `m` converts a cell to markdown (default code)."
      ]
    },
    {
      "cell_type": "markdown",
      "id": "2658f9c3",
      "metadata": {
        "id": "2658f9c3"
      },
      "source": [
        "# Introduction to Python"
      ]
    },
    {
      "cell_type": "markdown",
      "id": "8dce4ec5",
      "metadata": {
        "id": "8dce4ec5"
      },
      "source": [
        "### `print()`"
      ]
    },
    {
      "cell_type": "code",
      "execution_count": 1,
      "id": "0419af04",
      "metadata": {
        "id": "0419af04",
        "outputId": "a8709f36-ae9c-4510-a187-b0394153104c",
        "colab": {
          "base_uri": "https://localhost:8080/"
        }
      },
      "outputs": [
        {
          "output_type": "stream",
          "name": "stdout",
          "text": [
            "Hello class! My name is Serhan!\n"
          ]
        }
      ],
      "source": [
        "print('Hello class! My name is Serhan!')"
      ]
    },
    {
      "cell_type": "code",
      "execution_count": 2,
      "id": "737ffe33",
      "metadata": {
        "id": "737ffe33",
        "outputId": "d380c4f0-1ef4-4a67-d745-955c4d279564",
        "colab": {
          "base_uri": "https://localhost:8080/"
        }
      },
      "outputs": [
        {
          "output_type": "stream",
          "name": "stdout",
          "text": [
            "Hello class! My name is Serhan! I am your instructor.\n",
            "The course will last for 14 weeks.\n"
          ]
        }
      ],
      "source": [
        "name = 'Serhan'\n",
        "role = 'instructor'\n",
        "nweeks = 14\n",
        "print('Hello class! My name is %s! I am your %s.\\nThe course will last for %d weeks.' % (name,role,nweeks))"
      ]
    },
    {
      "cell_type": "code",
      "execution_count": 3,
      "id": "e24ceda0",
      "metadata": {
        "id": "e24ceda0",
        "outputId": "f3dd7aab-c16f-4093-ab51-ba04424fb448",
        "colab": {
          "base_uri": "https://localhost:8080/"
        }
      },
      "outputs": [
        {
          "output_type": "stream",
          "name": "stdout",
          "text": [
            "Hello class! My name is Serhan .\n"
          ]
        }
      ],
      "source": [
        "print('Hello class! My name is', name, '.')"
      ]
    },
    {
      "cell_type": "markdown",
      "id": "7b9e0b4e",
      "metadata": {
        "id": "7b9e0b4e"
      },
      "source": [
        "### Functions `def`"
      ]
    },
    {
      "cell_type": "code",
      "execution_count": 4,
      "id": "75a325a8",
      "metadata": {
        "id": "75a325a8",
        "outputId": "226ce0c2-f5da-48f2-f43a-ec9323936d97",
        "colab": {
          "base_uri": "https://localhost:8080/"
        }
      },
      "outputs": [
        {
          "output_type": "execute_result",
          "data": {
            "text/plain": [
              "19"
            ]
          },
          "metadata": {},
          "execution_count": 4
        }
      ],
      "source": [
        "def my_func(x):\n",
        "    result = x ** 2 + 3\n",
        "    return result\n",
        "my_func(4)"
      ]
    },
    {
      "cell_type": "code",
      "execution_count": 5,
      "id": "45718499",
      "metadata": {
        "id": "45718499",
        "outputId": "cdeb48b5-1f71-46dd-8a2c-814273344a52",
        "colab": {
          "base_uri": "https://localhost:8080/"
        }
      },
      "outputs": [
        {
          "output_type": "execute_result",
          "data": {
            "text/plain": [
              "19"
            ]
          },
          "metadata": {},
          "execution_count": 5
        }
      ],
      "source": [
        "def my_func(x):\n",
        "    return x ** 2 + 3\n",
        "my_func(4)"
      ]
    },
    {
      "cell_type": "markdown",
      "id": "4a1c189d",
      "metadata": {
        "id": "4a1c189d"
      },
      "source": [
        "#### Scope of variables"
      ]
    },
    {
      "cell_type": "markdown",
      "id": "e8004118",
      "metadata": {
        "id": "e8004118"
      },
      "source": [
        "Variables declared as an input to / output from, or inside, a function (e.g., `x`,`y`,`result` below) are not accessible."
      ]
    },
    {
      "cell_type": "code",
      "execution_count": 6,
      "id": "da73f37a",
      "metadata": {
        "id": "da73f37a",
        "outputId": "468b2379-93f3-41a9-8d22-95206646dadf",
        "colab": {
          "base_uri": "https://localhost:8080/"
        }
      },
      "outputs": [
        {
          "output_type": "execute_result",
          "data": {
            "text/plain": [
              "18"
            ]
          },
          "metadata": {},
          "execution_count": 6
        }
      ],
      "source": [
        "def my_func(x):\n",
        "    y = 5\n",
        "    result = x * y + 3\n",
        "    return result\n",
        "my_func(3)"
      ]
    },
    {
      "cell_type": "markdown",
      "id": "a22b93c2",
      "metadata": {
        "id": "a22b93c2"
      },
      "source": [
        "On the contrary, variables declared outside a function (e.g., `x`,`y`,`result` below) are accessible from inside a function (**although not recommended**)"
      ]
    },
    {
      "cell_type": "code",
      "execution_count": 7,
      "id": "7a40428d",
      "metadata": {
        "id": "7a40428d",
        "outputId": "14e6b73c-2989-4ad3-a74c-37e3b8a28ee0",
        "colab": {
          "base_uri": "https://localhost:8080/"
        }
      },
      "outputs": [
        {
          "output_type": "execute_result",
          "data": {
            "text/plain": [
              "18"
            ]
          },
          "metadata": {},
          "execution_count": 7
        }
      ],
      "source": [
        "y = 5\n",
        "def my_func(x):\n",
        "    result = x * y + 3\n",
        "    return result\n",
        "my_func(3)"
      ]
    },
    {
      "cell_type": "markdown",
      "id": "fef9b6ab",
      "metadata": {
        "id": "fef9b6ab"
      },
      "source": [
        "#### Multiple variables"
      ]
    },
    {
      "cell_type": "code",
      "execution_count": 8,
      "id": "730bb830",
      "metadata": {
        "id": "730bb830",
        "outputId": "e31bb75e-c790-4cba-df9a-1048f02d6c25",
        "colab": {
          "base_uri": "https://localhost:8080/"
        }
      },
      "outputs": [
        {
          "output_type": "execute_result",
          "data": {
            "text/plain": [
              "15"
            ]
          },
          "metadata": {},
          "execution_count": 8
        }
      ],
      "source": [
        "def my_func(x,y):\n",
        "    return x * y + 3\n",
        "my_func(3,4)"
      ]
    },
    {
      "cell_type": "markdown",
      "id": "1e5f6479",
      "metadata": {
        "id": "1e5f6479"
      },
      "source": [
        "#### Single-line functions with `lambda`"
      ]
    },
    {
      "cell_type": "code",
      "execution_count": 9,
      "id": "187be589",
      "metadata": {
        "id": "187be589",
        "outputId": "77a9c608-0c1f-4aa7-db8e-34387a027a41",
        "colab": {
          "base_uri": "https://localhost:8080/"
        }
      },
      "outputs": [
        {
          "output_type": "execute_result",
          "data": {
            "text/plain": [
              "24"
            ]
          },
          "metadata": {},
          "execution_count": 9
        }
      ],
      "source": [
        "my_func = lambda x,y,z: x*y*z\n",
        "my_func(2,3,4)"
      ]
    },
    {
      "cell_type": "markdown",
      "id": "6f3b5ebd",
      "metadata": {
        "id": "6f3b5ebd"
      },
      "source": [
        "### `True` `False`"
      ]
    },
    {
      "cell_type": "markdown",
      "id": "77284e7f",
      "metadata": {
        "id": "77284e7f"
      },
      "source": [
        "`True` `False` are reserved keywords for binary values 1 and 0."
      ]
    },
    {
      "cell_type": "code",
      "execution_count": 10,
      "id": "e0bd62df",
      "metadata": {
        "id": "e0bd62df",
        "outputId": "695645fc-672c-4bbe-b7b2-f6186d262ccd",
        "colab": {
          "base_uri": "https://localhost:8080/"
        }
      },
      "outputs": [
        {
          "output_type": "execute_result",
          "data": {
            "text/plain": [
              "False"
            ]
          },
          "metadata": {},
          "execution_count": 10
        }
      ],
      "source": [
        "1 == 2"
      ]
    },
    {
      "cell_type": "code",
      "execution_count": 11,
      "id": "792aa264",
      "metadata": {
        "id": "792aa264",
        "outputId": "ecf20344-c210-4915-9b32-3106b264e1b9",
        "colab": {
          "base_uri": "https://localhost:8080/"
        }
      },
      "outputs": [
        {
          "output_type": "execute_result",
          "data": {
            "text/plain": [
              "True"
            ]
          },
          "metadata": {},
          "execution_count": 11
        }
      ],
      "source": [
        "2 < 5"
      ]
    },
    {
      "cell_type": "code",
      "execution_count": 12,
      "id": "56b649b8",
      "metadata": {
        "id": "56b649b8",
        "outputId": "29293962-b5ef-4ef7-eb88-f9112b9f17a1",
        "colab": {
          "base_uri": "https://localhost:8080/"
        }
      },
      "outputs": [
        {
          "output_type": "execute_result",
          "data": {
            "text/plain": [
              "11"
            ]
          },
          "metadata": {},
          "execution_count": 12
        }
      ],
      "source": [
        "i = 0\n",
        "while True:\n",
        "    i += 1\n",
        "    if i > 10:\n",
        "        break\n",
        "i"
      ]
    },
    {
      "cell_type": "code",
      "execution_count": 13,
      "id": "5af42b8a",
      "metadata": {
        "id": "5af42b8a",
        "outputId": "6456274a-a9bd-454c-cf90-a91d05fe0d5e",
        "colab": {
          "base_uri": "https://localhost:8080/"
        }
      },
      "outputs": [
        {
          "output_type": "stream",
          "name": "stdout",
          "text": [
            "1\n",
            "2\n",
            "3\n",
            "4\n",
            "5\n",
            "6\n",
            "7\n",
            "8\n",
            "9\n",
            "10\n",
            "11\n"
          ]
        },
        {
          "output_type": "execute_result",
          "data": {
            "text/plain": [
              "11"
            ]
          },
          "metadata": {},
          "execution_count": 13
        }
      ],
      "source": [
        "i = 0\n",
        "while i <= 10:\n",
        "    i += 1\n",
        "    print(i)\n",
        "i"
      ]
    },
    {
      "cell_type": "markdown",
      "id": "cfeeefac",
      "metadata": {
        "id": "cfeeefac"
      },
      "source": [
        "### Logical operators `<`,`>`,`<=`,`>=`,`==`,`!=`, `in`, `not in` ..."
      ]
    },
    {
      "cell_type": "code",
      "execution_count": 14,
      "id": "29810376",
      "metadata": {
        "id": "29810376",
        "outputId": "4a9db461-1ef1-4176-d180-76a1c85e6a85",
        "colab": {
          "base_uri": "https://localhost:8080/"
        }
      },
      "outputs": [
        {
          "output_type": "execute_result",
          "data": {
            "text/plain": [
              "False"
            ]
          },
          "metadata": {},
          "execution_count": 14
        }
      ],
      "source": [
        "2 not in [2,3,4]"
      ]
    },
    {
      "cell_type": "code",
      "execution_count": 15,
      "id": "dcbb2dd4",
      "metadata": {
        "id": "dcbb2dd4",
        "outputId": "2a0b6971-4b1a-481f-a7be-f946a0069516",
        "colab": {
          "base_uri": "https://localhost:8080/"
        }
      },
      "outputs": [
        {
          "output_type": "execute_result",
          "data": {
            "text/plain": [
              "True"
            ]
          },
          "metadata": {},
          "execution_count": 15
        }
      ],
      "source": [
        "5 < 9"
      ]
    },
    {
      "cell_type": "code",
      "execution_count": 16,
      "id": "e6cfd068",
      "metadata": {
        "id": "e6cfd068",
        "outputId": "8713c930-79aa-4545-9261-c2c09d9bb354",
        "colab": {
          "base_uri": "https://localhost:8080/"
        }
      },
      "outputs": [
        {
          "output_type": "execute_result",
          "data": {
            "text/plain": [
              "False"
            ]
          },
          "metadata": {},
          "execution_count": 16
        }
      ],
      "source": [
        "'b' < 'a'"
      ]
    },
    {
      "cell_type": "code",
      "execution_count": 17,
      "id": "2b48e5a1",
      "metadata": {
        "id": "2b48e5a1",
        "outputId": "f8c12bad-a58a-4b7b-f4fa-5af401a6d15c",
        "colab": {
          "base_uri": "https://localhost:8080/"
        }
      },
      "outputs": [
        {
          "output_type": "execute_result",
          "data": {
            "text/plain": [
              "True"
            ]
          },
          "metadata": {},
          "execution_count": 17
        }
      ],
      "source": [
        "'aa' < 'aaa' #lexicographic ordering"
      ]
    },
    {
      "cell_type": "code",
      "execution_count": 18,
      "id": "9476919a",
      "metadata": {
        "id": "9476919a",
        "outputId": "8a3d63a8-9fef-43bd-effc-c6585e16d1c0",
        "colab": {
          "base_uri": "https://localhost:8080/"
        }
      },
      "outputs": [
        {
          "output_type": "execute_result",
          "data": {
            "text/plain": [
              "True"
            ]
          },
          "metadata": {},
          "execution_count": 18
        }
      ],
      "source": [
        "'aa' in 'aaa'"
      ]
    },
    {
      "cell_type": "code",
      "execution_count": 19,
      "id": "79794ddc",
      "metadata": {
        "id": "79794ddc",
        "outputId": "255f06f1-b18f-42b4-f6dd-5ca7b7e96096",
        "colab": {
          "base_uri": "https://localhost:8080/"
        }
      },
      "outputs": [
        {
          "output_type": "execute_result",
          "data": {
            "text/plain": [
              "False"
            ]
          },
          "metadata": {},
          "execution_count": 19
        }
      ],
      "source": [
        "'Aa' in 'aaa'"
      ]
    },
    {
      "cell_type": "code",
      "execution_count": 20,
      "id": "335f7ffc",
      "metadata": {
        "id": "335f7ffc",
        "outputId": "47a5061e-9bbe-4b53-cb18-7f5975a1bdac",
        "colab": {
          "base_uri": "https://localhost:8080/"
        }
      },
      "outputs": [
        {
          "output_type": "execute_result",
          "data": {
            "text/plain": [
              "True"
            ]
          },
          "metadata": {},
          "execution_count": 20
        }
      ],
      "source": [
        "1/2 == 3/6"
      ]
    },
    {
      "cell_type": "code",
      "execution_count": 21,
      "id": "d2dc6b3a",
      "metadata": {
        "id": "d2dc6b3a",
        "outputId": "6e9a6150-495c-4423-8905-5e85fef2e8f5",
        "colab": {
          "base_uri": "https://localhost:8080/"
        }
      },
      "outputs": [
        {
          "output_type": "execute_result",
          "data": {
            "text/plain": [
              "True"
            ]
          },
          "metadata": {},
          "execution_count": 21
        }
      ],
      "source": [
        "1.00000000000000000001 == 1"
      ]
    },
    {
      "cell_type": "markdown",
      "id": "ef06c067",
      "metadata": {
        "id": "ef06c067"
      },
      "source": [
        "### Numerical operators `+`,`-`,`*`,`/`,`%`,`**`,`+=`,`-=`,`*=`,`/=` ..."
      ]
    },
    {
      "cell_type": "code",
      "execution_count": 22,
      "id": "7752b5bf",
      "metadata": {
        "id": "7752b5bf",
        "outputId": "66eb3ca6-3acf-45d5-e79c-fbdd5355b5d8",
        "colab": {
          "base_uri": "https://localhost:8080/"
        }
      },
      "outputs": [
        {
          "output_type": "execute_result",
          "data": {
            "text/plain": [
              "1"
            ]
          },
          "metadata": {},
          "execution_count": 22
        }
      ],
      "source": [
        "5 % 2"
      ]
    },
    {
      "cell_type": "code",
      "execution_count": 23,
      "id": "8995eeb9",
      "metadata": {
        "id": "8995eeb9",
        "outputId": "50218509-6421-4c5d-f247-09961698d490",
        "colab": {
          "base_uri": "https://localhost:8080/"
        }
      },
      "outputs": [
        {
          "output_type": "execute_result",
          "data": {
            "text/plain": [
              "25"
            ]
          },
          "metadata": {},
          "execution_count": 23
        }
      ],
      "source": [
        "5 ** 2"
      ]
    },
    {
      "cell_type": "code",
      "execution_count": 24,
      "id": "a93be5e1",
      "metadata": {
        "id": "a93be5e1",
        "outputId": "85c1e072-0318-4c84-8015-e0308741a5b8",
        "colab": {
          "base_uri": "https://localhost:8080/"
        }
      },
      "outputs": [
        {
          "output_type": "execute_result",
          "data": {
            "text/plain": [
              "12"
            ]
          },
          "metadata": {},
          "execution_count": 24
        }
      ],
      "source": [
        "x = 5\n",
        "y = 7\n",
        "y += x\n",
        "y"
      ]
    },
    {
      "cell_type": "markdown",
      "id": "f7f1261d",
      "metadata": {
        "id": "f7f1261d"
      },
      "source": [
        "### Conditional statements"
      ]
    },
    {
      "cell_type": "code",
      "execution_count": 25,
      "id": "37a994b1",
      "metadata": {
        "id": "37a994b1",
        "outputId": "a0962b14-8d48-40d1-907c-d1b2cb3d73d4",
        "colab": {
          "base_uri": "https://localhost:8080/"
        }
      },
      "outputs": [
        {
          "output_type": "stream",
          "name": "stdout",
          "text": [
            "My number is greater than 100\n"
          ]
        }
      ],
      "source": [
        "my_number = 1000\n",
        "reference = 100\n",
        "if my_number > reference:\n",
        "    print('My number is greater than %d' % reference)\n",
        "elif my_number < reference:\n",
        "    print('My number is less than %d' % reference)\n",
        "else:\n",
        "    print('My number is equal to %d' % reference)"
      ]
    },
    {
      "cell_type": "markdown",
      "id": "31a16a71",
      "metadata": {
        "id": "31a16a71"
      },
      "source": [
        "Write a function that tells us whether a number is odd or even"
      ]
    },
    {
      "cell_type": "code",
      "execution_count": 26,
      "id": "10ab3f16",
      "metadata": {
        "id": "10ab3f16",
        "outputId": "b4fc67ac-bc8e-4be6-b540-23b3f179920f",
        "colab": {
          "base_uri": "https://localhost:8080/"
        }
      },
      "outputs": [
        {
          "output_type": "stream",
          "name": "stdout",
          "text": [
            "Odd\n"
          ]
        }
      ],
      "source": [
        "def oddeven(my_number):\n",
        "    if my_number % 2 == 1:\n",
        "        print('Odd')\n",
        "    else:\n",
        "        print('Even')\n",
        "result = oddeven(11)\n",
        "result"
      ]
    },
    {
      "cell_type": "markdown",
      "id": "dfa23ead",
      "metadata": {
        "id": "dfa23ead"
      },
      "source": [
        "⚡ ***Exercise:*** Write a function that takes two integers. If either of the numbers can be divided by the other without a remainder, print the result of the division. If none of the numbers can divide the other one, print an error message."
      ]
    },
    {
      "cell_type": "code",
      "execution_count": 27,
      "id": "7205a292",
      "metadata": {
        "id": "7205a292",
        "outputId": "b6f1d91b-27ae-435c-8a45-78ec05a78d23",
        "colab": {
          "base_uri": "https://localhost:8080/"
        }
      },
      "outputs": [
        {
          "output_type": "stream",
          "name": "stdout",
          "text": [
            "5 10\n",
            "y divided by x equals 2\n"
          ]
        }
      ],
      "source": [
        "# Write your code here\n",
        "def twonumbers(x,y):\n",
        "    print(x,y)\n",
        "    if x==y:\n",
        "        print('Choose different numbers')\n",
        "    else:\n",
        "        if (x % y) == 0:\n",
        "            print('x divided by y equals %.0f' % (x/y))\n",
        "        elif (y % x) == 0:\n",
        "            print('y divided by x equals %.0f' % (y/x))\n",
        "        else:\n",
        "            print('None of them can divide the other')\n",
        "twonumbers(5,10)"
      ]
    },
    {
      "cell_type": "markdown",
      "id": "cf597237",
      "metadata": {
        "id": "cf597237"
      },
      "source": [
        "### Some Data Structures"
      ]
    },
    {
      "cell_type": "markdown",
      "id": "4c78f688",
      "metadata": {
        "id": "4c78f688"
      },
      "source": [
        "#### Lists `[]`\n",
        "A list is a collection of items."
      ]
    },
    {
      "cell_type": "code",
      "execution_count": 28,
      "id": "7abd9c16",
      "metadata": {
        "id": "7abd9c16",
        "outputId": "c1ed5a38-8d89-4523-af82-c571718bd716",
        "colab": {
          "base_uri": "https://localhost:8080/"
        }
      },
      "outputs": [
        {
          "output_type": "execute_result",
          "data": {
            "text/plain": [
              "['ab', 'bc', 'cd']"
            ]
          },
          "metadata": {},
          "execution_count": 28
        }
      ],
      "source": [
        "my_list = ['a','b','c']\n",
        "my_list = [1,2,3]\n",
        "my_list = ['ab','bc','cd']\n",
        "my_list"
      ]
    },
    {
      "cell_type": "code",
      "execution_count": 29,
      "id": "ac0c97f7",
      "metadata": {
        "id": "ac0c97f7",
        "outputId": "0ad01606-86eb-498e-9649-2433bdc19e60",
        "colab": {
          "base_uri": "https://localhost:8080/",
          "height": 35
        }
      },
      "outputs": [
        {
          "output_type": "execute_result",
          "data": {
            "text/plain": [
              "'bc'"
            ],
            "application/vnd.google.colaboratory.intrinsic+json": {
              "type": "string"
            }
          },
          "metadata": {},
          "execution_count": 29
        }
      ],
      "source": [
        "my_list[1]"
      ]
    },
    {
      "cell_type": "code",
      "execution_count": 30,
      "id": "de7a95f4",
      "metadata": {
        "id": "de7a95f4",
        "outputId": "779768f9-b456-447f-92b8-d3ab87eabc3e",
        "colab": {
          "base_uri": "https://localhost:8080/"
        }
      },
      "outputs": [
        {
          "output_type": "execute_result",
          "data": {
            "text/plain": [
              "['ab', 'bc', 'cd']"
            ]
          },
          "metadata": {},
          "execution_count": 30
        }
      ],
      "source": [
        "my_list[:]"
      ]
    },
    {
      "cell_type": "code",
      "execution_count": 31,
      "id": "743caeec",
      "metadata": {
        "id": "743caeec",
        "outputId": "cde00a83-82fc-4be7-f4cd-14003680c717",
        "colab": {
          "base_uri": "https://localhost:8080/"
        }
      },
      "outputs": [
        {
          "output_type": "execute_result",
          "data": {
            "text/plain": [
              "['bc', 'cd']"
            ]
          },
          "metadata": {},
          "execution_count": 31
        }
      ],
      "source": [
        "my_list[1:]"
      ]
    },
    {
      "cell_type": "code",
      "execution_count": 32,
      "id": "7eb60e6d",
      "metadata": {
        "id": "7eb60e6d",
        "outputId": "10ea7b9e-d1dd-448f-b30e-d1a514ffac55",
        "colab": {
          "base_uri": "https://localhost:8080/"
        }
      },
      "outputs": [
        {
          "output_type": "execute_result",
          "data": {
            "text/plain": [
              "['ab', 'bc']"
            ]
          },
          "metadata": {},
          "execution_count": 32
        }
      ],
      "source": [
        "my_list[:2]"
      ]
    },
    {
      "cell_type": "code",
      "execution_count": 33,
      "id": "4a4743d5",
      "metadata": {
        "id": "4a4743d5",
        "outputId": "ea53fb0a-e355-44ac-cea7-9cff95bf9d21",
        "colab": {
          "base_uri": "https://localhost:8080/",
          "height": 35
        }
      },
      "outputs": [
        {
          "output_type": "execute_result",
          "data": {
            "text/plain": [
              "'cd'"
            ],
            "application/vnd.google.colaboratory.intrinsic+json": {
              "type": "string"
            }
          },
          "metadata": {},
          "execution_count": 33
        }
      ],
      "source": [
        "my_list[-1]"
      ]
    },
    {
      "cell_type": "code",
      "execution_count": 34,
      "id": "2c88ce7b",
      "metadata": {
        "id": "2c88ce7b",
        "outputId": "05d1c59b-4947-4b6d-d3ff-8041e7da5126",
        "colab": {
          "base_uri": "https://localhost:8080/"
        }
      },
      "outputs": [
        {
          "output_type": "execute_result",
          "data": {
            "text/plain": [
              "['ab', 'bc', 'cd', 'ab', 'bc', 'cd']"
            ]
          },
          "metadata": {},
          "execution_count": 34
        }
      ],
      "source": [
        "my_list*2"
      ]
    },
    {
      "cell_type": "code",
      "execution_count": 35,
      "id": "73b95f3b",
      "metadata": {
        "id": "73b95f3b",
        "outputId": "92de8346-661b-49c2-b149-f8465fb2f2ce",
        "colab": {
          "base_uri": "https://localhost:8080/"
        }
      },
      "outputs": [
        {
          "output_type": "execute_result",
          "data": {
            "text/plain": [
              "['ab', 'bc', 'cd', 'de']"
            ]
          },
          "metadata": {},
          "execution_count": 35
        }
      ],
      "source": [
        "my_list.append('de')\n",
        "my_list"
      ]
    },
    {
      "cell_type": "code",
      "execution_count": 36,
      "id": "183d5ea2",
      "metadata": {
        "id": "183d5ea2",
        "outputId": "b758b661-f12f-4b4d-b3b7-c3ca79c2f597",
        "colab": {
          "base_uri": "https://localhost:8080/"
        }
      },
      "outputs": [
        {
          "output_type": "execute_result",
          "data": {
            "text/plain": [
              "['ab', 'bc', 'cd', 'de', 'ab', 'bc', 'cd', 'de']"
            ]
          },
          "metadata": {},
          "execution_count": 36
        }
      ],
      "source": [
        "my_list + my_list"
      ]
    },
    {
      "cell_type": "code",
      "execution_count": 37,
      "id": "6f1b2aa8",
      "metadata": {
        "id": "6f1b2aa8",
        "outputId": "af3e72f4-958b-42a0-d3f4-379b2c002db3",
        "colab": {
          "base_uri": "https://localhost:8080/"
        }
      },
      "outputs": [
        {
          "output_type": "execute_result",
          "data": {
            "text/plain": [
              "4"
            ]
          },
          "metadata": {},
          "execution_count": 37
        }
      ],
      "source": [
        "len(my_list)"
      ]
    },
    {
      "cell_type": "markdown",
      "id": "d22224b4",
      "metadata": {
        "id": "d22224b4"
      },
      "source": [
        "#### Arrays `np.array()`\n",
        "An array is an $n$-dimensional collection of numbers (vectors, matrices, etc.)."
      ]
    },
    {
      "cell_type": "code",
      "execution_count": 38,
      "id": "c0ae871c",
      "metadata": {
        "id": "c0ae871c",
        "outputId": "bc06706f-2c16-4a07-9718-9d594701d6a5",
        "colab": {
          "base_uri": "https://localhost:8080/"
        }
      },
      "outputs": [
        {
          "output_type": "execute_result",
          "data": {
            "text/plain": [
              "array([1, 2, 3, 4])"
            ]
          },
          "metadata": {},
          "execution_count": 38
        }
      ],
      "source": [
        "import numpy as np\n",
        "my_list = [1,2,3,4]\n",
        "my_array = np.array(my_list)\n",
        "my_array"
      ]
    },
    {
      "cell_type": "code",
      "execution_count": 39,
      "id": "e6cec5d8",
      "metadata": {
        "id": "e6cec5d8",
        "outputId": "ff919132-b274-4176-c692-cb1d748177b1",
        "colab": {
          "base_uri": "https://localhost:8080/"
        }
      },
      "outputs": [
        {
          "output_type": "execute_result",
          "data": {
            "text/plain": [
              "(4,)"
            ]
          },
          "metadata": {},
          "execution_count": 39
        }
      ],
      "source": [
        "my_array.shape #vector"
      ]
    },
    {
      "cell_type": "code",
      "execution_count": 40,
      "id": "f27cc1e3",
      "metadata": {
        "id": "f27cc1e3",
        "outputId": "cf1b4b95-8fb6-42c8-9ecc-d5ef62eebb07",
        "colab": {
          "base_uri": "https://localhost:8080/"
        }
      },
      "outputs": [
        {
          "output_type": "execute_result",
          "data": {
            "text/plain": [
              "numpy.ndarray"
            ]
          },
          "metadata": {},
          "execution_count": 40
        }
      ],
      "source": [
        "type(my_array)"
      ]
    },
    {
      "cell_type": "code",
      "execution_count": 41,
      "id": "9f90c948",
      "metadata": {
        "id": "9f90c948",
        "outputId": "0231d176-1323-4527-85c6-08756c883b21",
        "colab": {
          "base_uri": "https://localhost:8080/"
        }
      },
      "outputs": [
        {
          "output_type": "execute_result",
          "data": {
            "text/plain": [
              "array([[1, 2],\n",
              "       [3, 4]])"
            ]
          },
          "metadata": {},
          "execution_count": 41
        }
      ],
      "source": [
        "my_array = my_array.reshape(2,2)\n",
        "# my_array = np.reshape(my_array,(4,))\n",
        "my_array"
      ]
    },
    {
      "cell_type": "code",
      "execution_count": 42,
      "id": "f32ec742",
      "metadata": {
        "id": "f32ec742",
        "outputId": "130c39b0-6a5a-44d9-8096-ff81e0d5acbe",
        "colab": {
          "base_uri": "https://localhost:8080/"
        }
      },
      "outputs": [
        {
          "output_type": "execute_result",
          "data": {
            "text/plain": [
              "array([[ 1,  8],\n",
              "       [27, 64]])"
            ]
          },
          "metadata": {},
          "execution_count": 42
        }
      ],
      "source": [
        "my_array * my_array\n",
        "my_array ** 3"
      ]
    },
    {
      "cell_type": "code",
      "execution_count": 43,
      "id": "64534632",
      "metadata": {
        "id": "64534632",
        "outputId": "280b6ec4-ca12-41cd-9c15-d5a534b4663c",
        "colab": {
          "base_uri": "https://localhost:8080/"
        }
      },
      "outputs": [
        {
          "output_type": "execute_result",
          "data": {
            "text/plain": [
              "array([[ 5, 11],\n",
              "       [11, 25]])"
            ]
          },
          "metadata": {},
          "execution_count": 43
        }
      ],
      "source": [
        "np.matmul(my_array,my_array.T)"
      ]
    },
    {
      "cell_type": "markdown",
      "id": "85107cf7",
      "metadata": {
        "id": "85107cf7"
      },
      "source": [
        "### Loops"
      ]
    },
    {
      "cell_type": "markdown",
      "id": "d2b7114e",
      "metadata": {
        "id": "d2b7114e"
      },
      "source": [
        "#### `for` loops"
      ]
    },
    {
      "cell_type": "code",
      "execution_count": 44,
      "id": "cfa521ee",
      "metadata": {
        "id": "cfa521ee",
        "outputId": "96980520-dd24-4afc-cfc3-196dbcd2e673",
        "colab": {
          "base_uri": "https://localhost:8080/"
        }
      },
      "outputs": [
        {
          "output_type": "stream",
          "name": "stdout",
          "text": [
            "ax\n",
            "bx\n",
            "cx\n"
          ]
        }
      ],
      "source": [
        "my_list = ['a','b','c']\n",
        "\n",
        "for i in my_list:\n",
        "#     print(i)\n",
        "    print(i+'x')"
      ]
    },
    {
      "cell_type": "code",
      "execution_count": 45,
      "id": "93390c84",
      "metadata": {
        "id": "93390c84",
        "outputId": "379e5e4d-6919-495c-b4e6-a88937a8d122",
        "colab": {
          "base_uri": "https://localhost:8080/"
        }
      },
      "outputs": [
        {
          "output_type": "execute_result",
          "data": {
            "text/plain": [
              "6"
            ]
          },
          "metadata": {},
          "execution_count": 45
        }
      ],
      "source": [
        "my_func(1,2,3)"
      ]
    },
    {
      "cell_type": "code",
      "execution_count": 46,
      "id": "69380a26",
      "metadata": {
        "id": "69380a26",
        "outputId": "5232d9f7-6380-446a-dff4-74efc8b8a3e0",
        "colab": {
          "base_uri": "https://localhost:8080/"
        }
      },
      "outputs": [
        {
          "output_type": "stream",
          "name": "stdout",
          "text": [
            "1\n",
            "8\n",
            "27\n",
            "64\n"
          ]
        }
      ],
      "source": [
        "my_array = np.array([1,2,3,4])\n",
        "\n",
        "for i in my_array:\n",
        "    print(my_func(i,i,i))"
      ]
    },
    {
      "cell_type": "code",
      "execution_count": 47,
      "id": "93f308a6",
      "metadata": {
        "id": "93f308a6",
        "outputId": "e55360ad-415b-43c7-c1ee-e17ca242ee69",
        "colab": {
          "base_uri": "https://localhost:8080/"
        }
      },
      "outputs": [
        {
          "output_type": "stream",
          "name": "stdout",
          "text": [
            "1\n",
            "8\n",
            "27\n"
          ]
        }
      ],
      "source": [
        "my_array = np.array([1,2,3,4])\n",
        "\n",
        "for i in my_array:\n",
        "    if i < 4:\n",
        "        print(i**3)"
      ]
    },
    {
      "cell_type": "markdown",
      "id": "62b33265",
      "metadata": {
        "id": "62b33265"
      },
      "source": [
        "#### `while` loops"
      ]
    },
    {
      "cell_type": "code",
      "execution_count": 48,
      "id": "da361152",
      "metadata": {
        "id": "da361152",
        "outputId": "0c5949aa-d08f-48c8-a45e-5e6e246dbfbc",
        "colab": {
          "base_uri": "https://localhost:8080/"
        }
      },
      "outputs": [
        {
          "output_type": "stream",
          "name": "stdout",
          "text": [
            "1\n",
            "4\n",
            "9\n",
            "16\n",
            "25\n",
            "36\n",
            "49\n",
            "64\n",
            "81\n"
          ]
        }
      ],
      "source": [
        "a = 1\n",
        "\n",
        "while a < 10:\n",
        "    print(a**2)\n",
        "    a += 1"
      ]
    },
    {
      "cell_type": "code",
      "execution_count": 49,
      "id": "0f862647",
      "metadata": {
        "id": "0f862647",
        "outputId": "a743ac33-e2db-417c-ffb7-5f4a21f861a3",
        "colab": {
          "base_uri": "https://localhost:8080/"
        }
      },
      "outputs": [
        {
          "output_type": "stream",
          "name": "stdout",
          "text": [
            "1\n",
            "4\n",
            "9\n",
            "16\n",
            "25\n",
            "36\n",
            "49\n",
            "64\n",
            "81\n"
          ]
        }
      ],
      "source": [
        "for a in range(1,10):\n",
        "    print(a**2)"
      ]
    },
    {
      "cell_type": "markdown",
      "id": "d05de539",
      "metadata": {
        "id": "d05de539"
      },
      "source": [
        "⚡ ***Exercise:*** Write a `while` loop that computes the sum of odd numbers less than 100, that is, $1+3+5+...+99$"
      ]
    },
    {
      "cell_type": "code",
      "execution_count": 50,
      "id": "444ab5b1",
      "metadata": {
        "id": "444ab5b1",
        "outputId": "65243900-51e1-473f-f3cd-606ff1fb9c89",
        "colab": {
          "base_uri": "https://localhost:8080/"
        }
      },
      "outputs": [
        {
          "output_type": "execute_result",
          "data": {
            "text/plain": [
              "4000"
            ]
          },
          "metadata": {},
          "execution_count": 50
        }
      ],
      "source": [
        "# Write your code here\n",
        "a = 1\n",
        "sum = 0\n",
        "while a<100:\n",
        "    if a % 5 != 0:\n",
        "        sum += a\n",
        "    a += 1\n",
        "sum"
      ]
    },
    {
      "cell_type": "markdown",
      "id": "b398a8fc",
      "metadata": {
        "id": "b398a8fc"
      },
      "source": [
        "## A time-series example"
      ]
    },
    {
      "cell_type": "code",
      "execution_count": 51,
      "id": "0ed38a1f",
      "metadata": {
        "id": "0ed38a1f",
        "outputId": "96645e33-eaa0-4521-d5cf-58cdf58a2e49",
        "colab": {
          "base_uri": "https://localhost:8080/",
          "height": 633
        }
      },
      "outputs": [
        {
          "output_type": "stream",
          "name": "stderr",
          "text": [
            "/tmp/ipython-input-339069247.py:4: FutureWarning: YF.download() has changed argument auto_adjust default to True\n",
            "  tesla = yf.download('TSLA','2023-01-01','2023-12-31');\n",
            "[*********************100%***********************]  1 of 1 completed\n"
          ]
        },
        {
          "output_type": "execute_result",
          "data": {
            "text/plain": [
              "Text(0, 0.5, 'Price')"
            ]
          },
          "metadata": {},
          "execution_count": 51
        },
        {
          "output_type": "display_data",
          "data": {
            "text/plain": [
              "<Figure size 800x600 with 1 Axes>"
            ],
            "image/png": "[encoded data removed]"
          },
          "metadata": {}
        }
      ],
      "source": [
        "import yfinance as yf\n",
        "import matplotlib.pyplot as plt\n",
        "import numpy as np\n",
        "tesla = yf.download('TSLA','2023-01-01','2023-12-31');\n",
        "plt.figure(figsize=(8,6))\n",
        "# plt.plot(np.log(tesla['Close']).diff());\n",
        "plt.plot(tesla['Close']);\n",
        "plt.title('TESLA Close Price')\n",
        "plt.xlabel('Date')\n",
        "plt.ylabel('Price')"
      ]
    }
  ],
  "metadata": {
    "kernelspec": {
      "display_name": "Python 3 (ipykernel)",
      "language": "python",
      "name": "python3"
    },
    "language_info": {
      "codemirror_mode": {
        "name": "ipython",
        "version": 3
      },
      "file_extension": ".py",
      "mimetype": "text/x-python",
      "name": "python",
      "nbconvert_exporter": "python",
      "pygments_lexer": "ipython3",
      "version": "3.9.12"
    },
    "colab": {
      "provenance": [],
      "include_colab_link": true
    }
  },
  "nbformat": 4,
  "nbformat_minor": 5
}